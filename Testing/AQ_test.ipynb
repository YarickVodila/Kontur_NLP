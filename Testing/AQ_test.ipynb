{
 "cells": [
  {
   "cell_type": "code",
   "execution_count": 1,
   "metadata": {
    "collapsed": true,
    "pycharm": {
     "name": "#%%\n"
    }
   },
   "outputs": [
    {
     "name": "stderr",
     "output_type": "stream",
     "text": [
      "d:\\Jupiter\\.venv\\lib\\site-packages\\tqdm\\auto.py:22: TqdmWarning: IProgress not found. Please update jupyter and ipywidgets. See https://ipywidgets.readthedocs.io/en/stable/user_install.html\n",
      "  from .autonotebook import tqdm as notebook_tqdm\n"
     ]
    }
   ],
   "source": [
    "import json\n",
    "from sklearn.utils import shuffle\n",
    "import re\n",
    "import numpy as np\n",
    "import pandas as pd\n",
    "import random\n",
    "from tqdm import tqdm\n",
    "from sklearn.model_selection import train_test_split\n",
    "from transformers import AutoTokenizer\n",
    "from deeppavlov import build_model\n",
    "from deeppavlov import train_model, configs\n",
    "from deeppavlov.core.commands.utils import parse_config\n",
    "from transformers import AutoTokenizer\n",
    "from datasets import Dataset, DatasetDict\n",
    "from transformers import AutoModelForTokenClassification, TrainingArguments, Trainer\n",
    "from transformers import AutoTokenizer\n",
    "from transformers import DataCollatorForTokenClassification\n",
    "from transformers import pipeline\n",
    "import torch\n",
    "from transformers import BertForQuestionAnswering\n",
    "\n",
    "import logging\n",
    "\n",
    "from simpletransformers.question_answering import QuestionAnsweringModel, QuestionAnsweringArgs"
   ]
  },
  {
   "cell_type": "code",
   "execution_count": 2,
   "metadata": {
    "collapsed": false,
    "pycharm": {
     "name": "#%%\n"
    }
   },
   "outputs": [
    {
     "data": {
      "text/plain": [
       "{'id': 809436509,\n",
       " 'text': 'Извещение о проведении открытого конкурса в электронной форме для закупки №0328300032822000806 Общая информация Номер извещения 0328300032822000806 Наименование объекта закупки Поставка продуктов питания Способ определения поставщика (подрядчика, исполнителя) Открытый конкурс в бль Порядок внесения денежных средств в качестве обеспечения заявки на участие в закупке, а также условия гарантии Обеспечение заявки на участие в закупке может предоставляться участником закупки в виде денежных средств или независимой гарантии, предусмотренной ст. 45 Федерального закона № 44-ФЗ. Выбор способа обеспечения осуществляется участником закупки самостоятельно. Срок действия независимой гарантии должен составлять не менее месяца с даты окончания срока подачи заявок. Обеспечение заявки на участие в закупке предоставляется в соответствии с ч. 5 ст. 44 Федерального закона № 44-ФЗ. Условия независимой гарантии в соответствии со ст. 45 Федерального закона № 44-ФЗ. Реквизиты счета в соответствии с п.16 ч. 1 ст. 42 Закона № 44-ФЗ \"Номер расчётного счёта\" 00000000000000000000 \"Номер лицевого счёта\" См. прилагаемые документы \"БИК\" 000000000 \"Наименование кредитной организации\" \"Номер корреспондентского счета\" Обеспечение исполнения контракта Требуется обеспечение исполнения контракта Размер обеспечения исполнения контракта 6593.25 Российский рубль Порядок обеспечения исполнения контракта, требования к обеспечению Исполнение контракта, гарантийные обязательства могут обеспечиваться предоставлением независимой гарантии, соответствующей требованиям ст. 45 Федерального закона № 44-ФЗ, или внесением денежных средств на указанный заказчиком счет, на котором в соответствии с законодательством Российской Федерации учитываются операции со средствами, поступающими заказчику. Способ обеспечения исполнения контракта, гарантийных обязательств, срок действия независимой гарантии определяются в соответствии с требованиями Федерального закона № 44-ФЗ участником закупки, с которым заключается контракт, самостоятельно. При этом срок действия независимой гарантии должен превышать предусмотренный контрактом срок исполнения обязательств, которые должны быть обеспечены такой независимой гарантией, не менее чем на один месяц, в том числе в случае его изменения в соответствии со ст. 95 Федерального закона № 44-ФЗ. Порядок предоставления и требования о Информация и документы, подтверждающие соответствие участников закупки дополнительным требованиям: 1) исполненный договор; 2) акт приемки оказанных услуг и (или) поставленных товаров, подтверждающий цену оказанных услуг и (или) поставленных товаров 4',\n",
       " 'label': 'обеспечение исполнения контракта',\n",
       " 'extracted_part': {'text': ['Размер обеспечения исполнения контракта 6593.25 Российский рубль'],\n",
       "  'answer_start': [1279],\n",
       "  'answer_end': [1343]}}"
      ]
     },
     "execution_count": 2,
     "metadata": {},
     "output_type": "execute_result"
    }
   ],
   "source": [
    "with open('dataset\\\\train.json', 'r', encoding='utf-8') as f: #открыли файл с данными\n",
    "    data = json.load(f) #загнали все, что получилось в переменную\n",
    "data[0]"
   ]
  },
  {
   "attachments": {},
   "cell_type": "markdown",
   "metadata": {},
   "source": [
    "### Задачу можно свести к типу Question Answering, где вопросом будет метка, а ответом нужный кусок текста "
   ]
  },
  {
   "attachments": {},
   "cell_type": "markdown",
   "metadata": {},
   "source": [
    "#### Приведём данные к виду \n",
    "id (int), title (str), context (str), question (str), answers (dict) {'text': кусок текста, \"answer_start\": [Начало индекса]}"
   ]
  },
  {
   "cell_type": "code",
   "execution_count": 3,
   "metadata": {},
   "outputs": [
    {
     "name": "stdout",
     "output_type": "stream",
     "text": [
      "302\n",
      "Размер тренировочной выборки:  1119\n",
      "Размер валидационной выборки:  373\n"
     ]
    },
    {
     "data": {
      "text/plain": [
       "{'context': '35 УТВЕРЖДАЮ Ломакина Наталья Владимировна Директор МБУ \"МФЦ городского округа Балашиха\" «01» сентября 2022г. ОРМЕ» документации, а именно: 1 час с момента размещения оператором электронной площадки протокола сопоставления ценовых предложений. 26. Дата начала и окончания срока рассмотрения вторых частей заявок на участие в аукционе в электронной форме Дата начала срока рассмотрения вторых частей заявок на участие в аукционе в электронной форме: «12» сентября 2022 Дата окончания срока рассмотрения вторых частей заявок на участие в аукционе в электронной форме: «12» сентября 2022 27. Дата подведения итогов аукциона в электронной форме Дата подведения итогов аукциона в электронной форме: «12» сентября 2022 28. Обеспечение заявок на участие в аукционе в электронной форме Не требуется 28.1. Размер обеспечения заявок на участие в аукционе в электронной форме Не требуется 28.2. Срок и порядок предоставления обеспечения заявок на участие в аукционе в электронной форме Не требуется 29. Обеспечение исполнения договора Требуется 29.1. Размер обеспечения исполнения договора, срок и порядок предоставления Размер обеспечения исполнения договора составляет: 5,00% от начальной (максимальной) цены договора, что составляет: 16 281 (шестнадцать тысяч двести восемьдесят один) рубль 50 копеек, НДС не облагается. Срок предоставления обеспечения исполнения договора: обеспечение должно быть предоставлено участником закупки до заключения договора. Срок предоставления обеспечения исполнения договора: обеспечение должно быть предоставлено участником закупки до заключения договора. Порядок предоставления обеспечения исполнения договора: срок обеспечения исполнения договора должен составлять срок исполнения обязательств по договору исполнителем плюс 60 дней. Обеспечение исполнения договора может быть представлено в виде безотзывной банковской гарантии или путем внесения денежных средств на счет Заказчика. Способ обеспечения исполнения договора определяется участником закупки самостоятельно. Если при проведении аукциона в электронной форме участником закупки, с которым заключается договор, предложена цена договора, которая на двадцать пять и более процентов ниже начальной (максимальной) цены договор ОБОСНОВАНИЕ НАЧАЛЬНОЙ (МАКСИМАЛЬНОЙ) ЦЕНЫ ДОГОВОРА/МАКСИМАЛЬНОГО ЗНАЧЕНИЯ ЦЕНЫ ДОГОВОРА/ЦЕНЫ ЕДИНИЦЫ ТОВАРА/ РАБОТЫ/ УСЛУГИ Обоснование начальной (максимальной) цены договора/максимального значения цены договора/цены единицы товара/ работы/ услуги договора прилагается отдельно.',\n",
       " 'id': 921426841,\n",
       " 'qas': [{'id': 921426841,\n",
       "   'question': 'обеспечение исполнения контракта',\n",
       "   'answers': [{'answer_start': 1110,\n",
       "     'text': 'Размер обеспечения исполнения договора составляет: 5,00% от начальной (максимальной) цены договора'}]}]}"
      ]
     },
     "execution_count": 3,
     "metadata": {},
     "output_type": "execute_result"
    }
   ],
   "source": [
    "def preprocessing(data):\n",
    "    max_lenght_ques = 0\n",
    "    max_lenght_answ = 0\n",
    "    data_train = []\n",
    "    question_id = {'обеспечение исполнения контракта': 0, 'обеспечение гарантийных обязательств': 1}\n",
    "\n",
    "    for dict_data in data:\n",
    "        id =  int(dict_data.get('id')) # id \n",
    "        text = dict_data.get('text') # Исходный текст\n",
    "        question = dict_data.get('label')   # Метка, которую мы будем рассматривать как вопрос \n",
    "        answer_start = int(dict_data.get('extracted_part').get('answer_start')[0]) # Индекс начала ответа\n",
    "        answer_end = dict_data.get('extracted_part').get('answer_end')[0] # Индекс конца ответа\n",
    "\n",
    "        \n",
    "        if (answer_start != 0 or answer_end != 0):\n",
    "            if max_lenght_answ < answer_end - answer_start:\n",
    "                max_lenght_answ = answer_end - answer_start\n",
    "\n",
    "            answers = {'answer_start': answer_start, 'text': dict_data.get('extracted_part').get('text')[0]}\n",
    "            #row = {\"context\": text, 'qas': [{\"id\":id,\"is_impossible\": False,\"question\": question,\"answers\": [answers]}]}\n",
    "            row = {\"context\": text,\"id\":id, 'qas': [{\"id\":id, \"question\": question,\"answers\": [answers]}]}\n",
    "            #data_train.append(row)\n",
    "            data_train.append(row)\n",
    "        else:\n",
    "            pass\n",
    "\n",
    "    print(max_lenght_answ)\n",
    "\n",
    "    \n",
    "    data_train, data_valid = train_test_split(data_train, train_size=0.75, random_state=12345)\n",
    "    print('Размер тренировочной выборки: ',len(data_train))\n",
    "    print('Размер валидационной выборки: ',len(data_valid))\n",
    "\n",
    "    data_train = {\"version\": 1.1, \"data\": [{\"title\": \"KonturContext\", \"paragraphs\": data_train}]}\n",
    "    data_valid = {\"version\": 1.1, \"data\": [{\"title\": \"KonturContext\", \"paragraphs\": data_valid}]}\n",
    "    \n",
    "    return data_train, data_valid\n",
    "\n",
    "data_train, data_valid = preprocessing(data)\n",
    "\n",
    "data_train.get('data')[0].get('paragraphs')[0]"
   ]
  },
  {
   "cell_type": "code",
   "execution_count": 41,
   "metadata": {},
   "outputs": [],
   "source": [
    "with open('dataset\\\\train-v1.1.json', 'w', encoding='utf-8') as outfile:\n",
    "    json.dump(data_train, outfile, ensure_ascii=False)\n",
    "\n",
    "with open('dataset\\\\dev-v1.1.json', 'w', encoding='utf-8') as outfile:\n",
    "    json.dump(data_valid, outfile, ensure_ascii=False)"
   ]
  },
  {
   "cell_type": "code",
   "execution_count": 32,
   "metadata": {},
   "outputs": [
    {
     "name": "stderr",
     "output_type": "stream",
     "text": [
      "Found cached dataset sberquad (C:/Users/ykolt/.cache/huggingface/datasets/sberquad/sberquad/1.0.0/62115d937acf2634cfacbfee10c13a7ee39df3ce345bb45af7088676f9811e77)\n",
      "100%|██████████| 3/3 [00:00<00:00, 184.76it/s]"
     ]
    },
    {
     "name": "stdout",
     "output_type": "stream",
     "text": [
      "{'id': 62310, 'title': 'SberChallenge', 'context': 'В протерозойских отложениях органические остатки встречаются намного чаще, чем в архейских. Они представлены известковыми выделениями сине-зелёных водорослей, ходами червей, остатками кишечнополостных. Кроме известковых водорослей, к числу древнейших растительных остатков относятся скопления графито-углистого вещества, образовавшегося в результате разложения Corycium enigmaticum. В кремнистых сланцах железорудной формации Канады найдены нитевидные водоросли, грибные нити и формы, близкие современным кокколитофоридам. В железистых кварцитах Северной Америки и Сибири обнаружены железистые продукты жизнедеятельности бактерий.', 'question': 'чем представлены органические остатки?', 'answers': {'text': ['известковыми выделениями сине-зелёных водорослей'], 'answer_start': [109]}}\n"
     ]
    },
    {
     "name": "stderr",
     "output_type": "stream",
     "text": [
      "\n"
     ]
    }
   ],
   "source": [
    "from datasets import load_dataset\n",
    "\n",
    "raw_datasets = load_dataset(\"sberquad\")\n",
    "print(raw_datasets['train'][0])\n",
    "del raw_datasets"
   ]
  },
  {
   "cell_type": "code",
   "execution_count": null,
   "metadata": {},
   "outputs": [
    {
     "data": {
      "text/plain": [
       "4"
      ]
     },
     "execution_count": 11,
     "metadata": {},
     "output_type": "execute_result"
    }
   ],
   "source": [
    "import gc\n",
    "gc.collect()"
   ]
  },
  {
   "cell_type": "code",
   "execution_count": 20,
   "metadata": {
    "collapsed": false,
    "pycharm": {
     "name": "#%%\n"
    }
   },
   "outputs": [],
   "source": [
    "model_config = parse_config('squad_ru_convers_distilrubert_2L')"
   ]
  },
  {
   "cell_type": "code",
   "execution_count": 21,
   "metadata": {},
   "outputs": [
    {
     "name": "stdout",
     "output_type": "stream",
     "text": [
      "~/.deeppavlov/downloads/squad_ru_clean/\n",
      "10\n"
     ]
    }
   ],
   "source": [
    "print(model_config['dataset_reader']['data_path'])\n",
    "print(model_config['train']['batch_size'])"
   ]
  },
  {
   "cell_type": "code",
   "execution_count": 22,
   "metadata": {
    "collapsed": false,
    "pycharm": {
     "name": "#%%\n"
    }
   },
   "outputs": [],
   "source": [
    "model_config['dataset_reader']['data_path'] = 'D:\\Jupiter\\Kontur\\dataset'\n",
    "#model_config['train']['batch_size'] = 4"
   ]
  },
  {
   "cell_type": "code",
   "execution_count": 23,
   "metadata": {},
   "outputs": [
    {
     "name": "stdout",
     "output_type": "stream",
     "text": [
      "D:\\Jupiter\\Kontur\\dataset\n",
      "10\n"
     ]
    }
   ],
   "source": [
    "print(model_config['dataset_reader']['data_path'])\n",
    "print(model_config['train']['batch_size'])"
   ]
  },
  {
   "cell_type": "code",
   "execution_count": 62,
   "metadata": {},
   "outputs": [
    {
     "data": {
      "text/plain": [
       "6564"
      ]
     },
     "execution_count": 62,
     "metadata": {},
     "output_type": "execute_result"
    }
   ],
   "source": [
    "import gc\n",
    "gc.collect()"
   ]
  },
  {
   "cell_type": "code",
   "execution_count": 4,
   "metadata": {
    "collapsed": false,
    "pycharm": {
     "name": "#%%\n"
    }
   },
   "outputs": [
    {
     "name": "stderr",
     "output_type": "stream",
     "text": [
      "Some weights of the model checkpoint at DeepPavlov/distilrubert-base-cased-conversational were not used when initializing DistilBertForQuestionAnswering: ['vocab_projector.weight', 'vocab_layer_norm.weight', 'vocab_layer_norm.bias', 'vocab_transform.weight', 'vocab_transform.bias', 'vocab_projector.bias']\n",
      "- This IS expected if you are initializing DistilBertForQuestionAnswering from the checkpoint of a model trained on another task or with another architecture (e.g. initializing a BertForSequenceClassification model from a BertForPreTraining model).\n",
      "- This IS NOT expected if you are initializing DistilBertForQuestionAnswering from the checkpoint of a model that you expect to be exactly identical (initializing a BertForSequenceClassification model from a BertForSequenceClassification model).\n",
      "Some weights of DistilBertForQuestionAnswering were not initialized from the model checkpoint at DeepPavlov/distilrubert-base-cased-conversational and are newly initialized: ['qa_outputs.bias', 'qa_outputs.weight']\n",
      "You should probably TRAIN this model on a down-stream task to be able to use it for predictions and inference.\n"
     ]
    }
   ],
   "source": [
    "model = build_model('squad_ru_convers_distilrubert_6L', download=False, install=False)"
   ]
  },
  {
   "cell_type": "code",
   "execution_count": 56,
   "metadata": {},
   "outputs": [
    {
     "data": {
      "text/plain": [
       "{'context': 'КОНТРАКТ<1> № ___ <2> на поставку продуктов питания (бакалея 4) (Идентификационный код закупки -222711101260771110100101240001061244 ) ________<4> «__» _______ 20__<5> ГУЗ «Алексинская районная больница № 1 имени профессора В.Ф. Снегирева» <6>, отребовать уплату штрафа. Размер штрафа определяется в соответствии с Правилами и составляет 1000 (одна тысяча) рублей 00 копеек. 7.14. Применение неустойки (штрафа, пени) не освобождает Стороны от исполнения обязательств по настоящему Контракту. 7.15. Общая сумма начисленных штрафов за неисполнение или ненадлежащее исполнение Поставщиком обязательств, предусмотренных настоящим Контрактом, не может превышать цену Контракта. 7.16. Общая сумма начисленных штрафов за ненадлежащее исполнение Заказчиком обязательств, предусмотренных настоящим Контрактом, не может превышать цену Контракта. 7.17. В случае расторжения настоящего Контракта в связи с односторонним отказом Стороны от исполнения настоящего Контракта другая Сторона вправе потребовать возмещения только фактически понесенного ущерба, непосредственно обусловленного обстоятельствами, являющимися основанием для принятия решения об одностороннем отказе от исполнения настоящего Контракта. VIII. ОБЕСПЕЧЕНИЕ ИСПОЛНЕНИЯ КОНТРАКТА <109> 8.1. Обеспечение исполнения настоящего Контракта установлено в размере 5%. <110> 8.2. Обеспечение исполнения настоящего Контракта обеспечивает все обязательства Поставщика, предусмотренные настоящим Контрактом, включая: - исполнение основного обязательства по поставке Товара; - предоставление Поставщиком Заказчику предусмотренных настоящим Контрактом и приложениями к нему результатов, включая отчетные документы; - соблюдение срока поставки; - возмещение убытков, причиненных Заказчику Поставщиком в результате ненадлежащего исполнения, неисполнения предусмотренного настоящим Контрактом и приложениями к нему обязательства последнего, а также обязанность выплаты неустойки (пени, штрафа), предусмотренной настоящим Контрактом. 8.3. Исполнение настоящего Контракта может обеспечиваться предоставлением независимой гарантии, выданной лицом, соответствующим требованиям статьи 45 Закона № 44-ФЗ, или внесением денежных средств на указанный в настоящем Контракте счет Заказчика. Способ и срок действия обеспечения исполнения настоящего Контракта определяется Поставщиком сам <144> Указывается в случае наличия претензий.',\n",
       " 'id': 17635249,\n",
       " 'qas': [{'id': 17635249,\n",
       "   'question': 'обеспечение исполнения контракта',\n",
       "   'answers': [{'answer_start': 1245,\n",
       "     'text': 'Обеспечение исполнения настоящего Контракта установлено в размере 5%.'}]}]}"
      ]
     },
     "execution_count": 56,
     "metadata": {},
     "output_type": "execute_result"
    }
   ],
   "source": [
    "data_train.get('data')[0].get('paragraphs')[1]"
   ]
  },
  {
   "cell_type": "code",
   "execution_count": 6,
   "metadata": {},
   "outputs": [
    {
     "name": "stdout",
     "output_type": "stream",
     "text": [
      "0.3324396782841823\n",
      "0.44682752457551383\n"
     ]
    }
   ],
   "source": [
    "def accuracy(data):\n",
    "    count = len(data)\n",
    "    count_true = 0\n",
    "    for i in range(len(data)):  \n",
    "        text = data[i].get('context')\n",
    "        quest = data[i].get('qas')[0].get('question')\n",
    "        answ = data[i].get('qas')[0].get('answers')[0].get('text')\n",
    "\n",
    "        predict = model([text], [quest])[0][0]\n",
    "        \n",
    "        if predict == answ:\n",
    "            count_true+=1\n",
    "    \n",
    "    return count_true/count\n",
    "\n",
    "print(accuracy(data_valid.get('data')[0].get('paragraphs')))\n",
    "\n",
    "print(accuracy(data_train.get('data')[0].get('paragraphs')))"
   ]
  },
  {
   "cell_type": "code",
   "execution_count": 49,
   "metadata": {
    "collapsed": false,
    "pycharm": {
     "name": "#%%\n"
    }
   },
   "outputs": [
    {
     "name": "stdout",
     "output_type": "stream",
     "text": [
      "[['Размер обеспечение исполнения контракта устанавливается от 0,5 % до 30 % начальной (максимальной) цены контракта'], [1298], [1.0]]\n",
      "['Размер обеспечение исполнения контракта устанавливается от 0,5 % до 30 % начальной (максимальной) цены контракта']\n"
     ]
    }
   ],
   "source": [
    "i = 6\n",
    "text = data[i].get('text')\n",
    "quest = data[i].get('label')\n",
    "\n",
    "print(model([text], [quest]))\n",
    "print(data[i].get('extracted_part').get('text'))"
   ]
  },
  {
   "cell_type": "code",
   "execution_count": 4,
   "metadata": {},
   "outputs": [
    {
     "name": "stdout",
     "output_type": "stream",
     "text": [
      "Is CUDA supported by this system? True\n",
      "CUDA version: 11.8\n",
      "torch version: 2.0.0+cu118\n"
     ]
    }
   ],
   "source": [
    "import torch\n",
    "  \n",
    "print(f\"Is CUDA supported by this system? {torch.cuda.is_available()}\")\n",
    "print(f\"CUDA version: {torch.version.cuda}\")\n",
    "print(f\"torch version: {torch.__version__}\")"
   ]
  },
  {
   "cell_type": "code",
   "execution_count": null,
   "metadata": {},
   "outputs": [],
   "source": []
  }
 ],
 "metadata": {
  "kernelspec": {
   "display_name": "Python 3",
   "language": "python",
   "name": "python3"
  },
  "language_info": {
   "codemirror_mode": {
    "name": "ipython",
    "version": 3
   },
   "file_extension": ".py",
   "mimetype": "text/x-python",
   "name": "python",
   "nbconvert_exporter": "python",
   "pygments_lexer": "ipython3",
   "version": "3.10.5"
  }
 },
 "nbformat": 4,
 "nbformat_minor": 0
}
