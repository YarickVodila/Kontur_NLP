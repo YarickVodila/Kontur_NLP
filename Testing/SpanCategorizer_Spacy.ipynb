{
 "cells": [
  {
   "cell_type": "markdown",
   "source": [
    "## Задача\n",
    "Необходимо создать модель, которая принимает на вход текст документа и наименование одного из двух пунктов, и возвращает возвращать соответствующий кусочек текста из текста документа (фрагмент, начало индекса фрагмента, конец индекса фрагмента)\n",
    "\n",
    "Пример\n",
    "```\n",
    "    {'text': ['Размер обеспечения исполнения контракта 6593.25 Российский рубль'], [1279], [1343] }\n",
    "```"
   ],
   "metadata": {
    "collapsed": false,
    "pycharm": {
     "name": "#%% md\n"
    }
   }
  },
  {
   "cell_type": "code",
   "execution_count": 10,
   "metadata": {
    "collapsed": true,
    "pycharm": {
     "name": "#%%\n"
    }
   },
   "outputs": [],
   "source": [
    "import json\n",
    "from sklearn.utils import shuffle\n",
    "\n",
    "import numpy as np\n",
    "import pandas as pd\n",
    "import ast\n",
    "import random\n",
    "\n",
    "import spacy\n",
    "from spacy.training.example import Example\n",
    "from tqdm import tqdm\n",
    "from spacy.tokens import DocBin\n",
    "from spacy.util import filter_spans\n",
    "from spacy.lang.ru import Russian\n",
    "from spacy.pipeline.spancat import DEFAULT_SPANCAT_MODEL\n",
    "from spacy.pipeline.spancat import DEFAULT_SPANCAT_SINGLELABEL_MODEL\n",
    "\n",
    "from sklearn.model_selection import train_test_split"
   ]
  },
  {
   "cell_type": "code",
   "execution_count": 2,
   "outputs": [
    {
     "data": {
      "text/plain": "{'id': 809436509,\n 'text': 'Извещение о проведении открытого конкурса в электронной форме для закупки №0328300032822000806 Общая информация Номер извещения 0328300032822000806 Наименование объекта закупки Поставка продуктов питания Способ определения поставщика (подрядчика, исполнителя) Открытый конкурс в бль Порядок внесения денежных средств в качестве обеспечения заявки на участие в закупке, а также условия гарантии Обеспечение заявки на участие в закупке может предоставляться участником закупки в виде денежных средств или независимой гарантии, предусмотренной ст. 45 Федерального закона № 44-ФЗ. Выбор способа обеспечения осуществляется участником закупки самостоятельно. Срок действия независимой гарантии должен составлять не менее месяца с даты окончания срока подачи заявок. Обеспечение заявки на участие в закупке предоставляется в соответствии с ч. 5 ст. 44 Федерального закона № 44-ФЗ. Условия независимой гарантии в соответствии со ст. 45 Федерального закона № 44-ФЗ. Реквизиты счета в соответствии с п.16 ч. 1 ст. 42 Закона № 44-ФЗ \"Номер расчётного счёта\" 00000000000000000000 \"Номер лицевого счёта\" См. прилагаемые документы \"БИК\" 000000000 \"Наименование кредитной организации\" \"Номер корреспондентского счета\" Обеспечение исполнения контракта Требуется обеспечение исполнения контракта Размер обеспечения исполнения контракта 6593.25 Российский рубль Порядок обеспечения исполнения контракта, требования к обеспечению Исполнение контракта, гарантийные обязательства могут обеспечиваться предоставлением независимой гарантии, соответствующей требованиям ст. 45 Федерального закона № 44-ФЗ, или внесением денежных средств на указанный заказчиком счет, на котором в соответствии с законодательством Российской Федерации учитываются операции со средствами, поступающими заказчику. Способ обеспечения исполнения контракта, гарантийных обязательств, срок действия независимой гарантии определяются в соответствии с требованиями Федерального закона № 44-ФЗ участником закупки, с которым заключается контракт, самостоятельно. При этом срок действия независимой гарантии должен превышать предусмотренный контрактом срок исполнения обязательств, которые должны быть обеспечены такой независимой гарантией, не менее чем на один месяц, в том числе в случае его изменения в соответствии со ст. 95 Федерального закона № 44-ФЗ. Порядок предоставления и требования о Информация и документы, подтверждающие соответствие участников закупки дополнительным требованиям: 1) исполненный договор; 2) акт приемки оказанных услуг и (или) поставленных товаров, подтверждающий цену оказанных услуг и (или) поставленных товаров 4',\n 'label': 'обеспечение исполнения контракта',\n 'extracted_part': {'text': ['Размер обеспечения исполнения контракта 6593.25 Российский рубль'],\n  'answer_start': [1279],\n  'answer_end': [1343]}}"
     },
     "execution_count": 2,
     "metadata": {},
     "output_type": "execute_result"
    }
   ],
   "source": [
    "with open('dataset\\\\train.json', 'r', encoding='utf-8') as f: #открыли файл с данными\n",
    "    data = json.load(f) #загнали все, что получилось в переменную\n",
    "data[0]"
   ],
   "metadata": {
    "collapsed": false,
    "pycharm": {
     "name": "#%%\n"
    }
   }
  },
  {
   "cell_type": "code",
   "execution_count": 3,
   "outputs": [
    {
     "name": "stdout",
     "output_type": "stream",
     "text": [
      "4\n",
      "40\n"
     ]
    }
   ],
   "source": [
    "max_word = 0\n",
    "min_word = 10000\n",
    "for dict in data:\n",
    "    answer_start = dict.get('extracted_part').get('answer_start')[0]\n",
    "    answer_end = dict.get('extracted_part').get('answer_end')[0]\n",
    "    if answer_start != 0 or answer_end != 0:\n",
    "        lenght = len(dict.get('extracted_part').get('text')[0].split(' '))\n",
    "        if max_word<lenght:\n",
    "            max_word = lenght\n",
    "        if min_word > lenght:\n",
    "            min_word = lenght\n",
    "print(min_word)\n",
    "print(max_word)"
   ],
   "metadata": {
    "collapsed": false,
    "pycharm": {
     "name": "#%%\n"
    }
   }
  },
  {
   "cell_type": "markdown",
   "source": [
    "### Создаём датасет для SpanCategorizer\n"
   ],
   "metadata": {
    "collapsed": false,
    "pycharm": {
     "name": "#%% md\n"
    }
   }
  },
  {
   "cell_type": "code",
   "execution_count": 9,
   "outputs": [
    {
     "data": {
      "text/plain": "{'text': 'Извещение о проведении открытого конкурса в электронной форме для закупки №0328300032822000806 Общая информация Номер извещения 0328300032822000806 Наименование объекта закупки Поставка продуктов питания Способ определения поставщика (подрядчика, исполнителя) Открытый конкурс в бль Порядок внесения денежных средств в качестве обеспечения заявки на участие в закупке, а также условия гарантии Обеспечение заявки на участие в закупке может предоставляться участником закупки в виде денежных средств или независимой гарантии, предусмотренной ст. 45 Федерального закона № 44-ФЗ. Выбор способа обеспечения осуществляется участником закупки самостоятельно. Срок действия независимой гарантии должен составлять не менее месяца с даты окончания срока подачи заявок. Обеспечение заявки на участие в закупке предоставляется в соответствии с ч. 5 ст. 44 Федерального закона № 44-ФЗ. Условия независимой гарантии в соответствии со ст. 45 Федерального закона № 44-ФЗ. Реквизиты счета в соответствии с п.16 ч. 1 ст. 42 Закона № 44-ФЗ \"Номер расчётного счёта\" 00000000000000000000 \"Номер лицевого счёта\" См. прилагаемые документы \"БИК\" 000000000 \"Наименование кредитной организации\" \"Номер корреспондентского счета\" Обеспечение исполнения контракта Требуется обеспечение исполнения контракта Размер обеспечения исполнения контракта 6593.25 Российский рубль Порядок обеспечения исполнения контракта, требования к обеспечению Исполнение контракта, гарантийные обязательства могут обеспечиваться предоставлением независимой гарантии, соответствующей требованиям ст. 45 Федерального закона № 44-ФЗ, или внесением денежных средств на указанный заказчиком счет, на котором в соответствии с законодательством Российской Федерации учитываются операции со средствами, поступающими заказчику. Способ обеспечения исполнения контракта, гарантийных обязательств, срок действия независимой гарантии определяются в соответствии с требованиями Федерального закона № 44-ФЗ участником закупки, с которым заключается контракт, самостоятельно. При этом срок действия независимой гарантии должен превышать предусмотренный контрактом срок исполнения обязательств, которые должны быть обеспечены такой независимой гарантией, не менее чем на один месяц, в том числе в случае его изменения в соответствии со ст. 95 Федерального закона № 44-ФЗ. Порядок предоставления и требования о Информация и документы, подтверждающие соответствие участников закупки дополнительным требованиям: 1) исполненный договор; 2) акт приемки оказанных услуг и (или) поставленных товаров, подтверждающий цену оказанных услуг и (или) поставленных товаров 4',\n 'spans': {'sc': [(1279, 1343, 'обеспечение исполнения контракта')]}}"
     },
     "execution_count": 9,
     "metadata": {},
     "output_type": "execute_result"
    }
   ],
   "source": [
    "#\"обеспечение исполнения контракта\" EOC\n",
    "#\"обеспечение гарантийных обязательств\" PWO\n",
    "\n",
    "span_key = \"sc\"\n",
    "def preprocessing(data):\n",
    "    data_train = {'classes' : ['обеспечение исполнения контракта', \"обеспечение гарантийных обязательств\"], 'annotations' : []}\n",
    "    data_missing = []\n",
    "    max_lenght = 0\n",
    "    for dict in data:\n",
    "        text = dict.get('text')\n",
    "        label = dict.get('label')\n",
    "        answer_start = dict.get('extracted_part').get('answer_start')[0]\n",
    "        answer_end = dict.get('extracted_part').get('answer_end')[0]\n",
    "        if answer_start == 0 and answer_end == 0:\n",
    "            data_missing.append((text, {'spans': []}))\n",
    "        else:\n",
    "            data_train['annotations'].append({'text': text, 'spans': {span_key: [(answer_start, answer_end, label)]}})\n",
    "\n",
    "            #row = Example.from_dict(nlp.make_doc(text), {'spans': {span_key: [(answer_start, answer_end, label)]}})\n",
    "            #row = (text, {'spans': {span_key: [(answer_start, answer_end, label)]}})\n",
    "            #data_train.append(row)\n",
    "\n",
    "    return data_train, data_missing\n",
    "\n",
    "data_train, data_missing = preprocessing(data)\n",
    "data_train['annotations'][0]"
   ],
   "metadata": {
    "collapsed": false,
    "pycharm": {
     "name": "#%%\n"
    }
   }
  },
  {
   "cell_type": "code",
   "execution_count": 21,
   "outputs": [],
   "source": [
    "label_json = {\"labels\": {\"spancat\": [\"обеспечение исполнения контракта\", \"обеспечение гарантийных обязательств\"]}}\n",
    "with open('labels.json', 'w', encoding='utf-8') as outfile:\n",
    "    json.dump(label_json, outfile, ensure_ascii=False,)"
   ],
   "metadata": {
    "collapsed": false,
    "pycharm": {
     "name": "#%%\n"
    }
   }
  },
  {
   "cell_type": "code",
   "execution_count": 12,
   "outputs": [],
   "source": [
    "nlp = spacy.blank(\"ru\") # load a new spacy model\n",
    "doc_bin = DocBin()"
   ],
   "metadata": {
    "collapsed": false,
    "pycharm": {
     "name": "#%%\n"
    }
   }
  },
  {
   "cell_type": "code",
   "execution_count": 17,
   "outputs": [
    {
     "name": "stderr",
     "output_type": "stream",
     "text": [
      "100%|██████████| 1492/1492 [00:02<00:00, 730.30it/s]\n"
     ]
    }
   ],
   "source": [
    "for training_example  in tqdm(data_train['annotations']):\n",
    "    text = training_example['text']\n",
    "    labels = training_example['spans']\n",
    "    doc = nlp.make_doc(text)\n",
    "    ents = []\n",
    "    for start, end, label in labels[span_key]:\n",
    "        span = doc.char_span(start, end, label=label, alignment_mode=\"contract\")\n",
    "        if span is None:\n",
    "            print(\"Skipping entity\")\n",
    "        else:\n",
    "            ents.append(span)\n",
    "    filtered_ents = filter_spans(ents)\n",
    "    doc.ents = filtered_ents\n",
    "    doc_bin.add(doc)\n",
    "\n",
    "doc_bin.to_disk(\"training_data_spans.spacy\") # save the docbin object"
   ],
   "metadata": {
    "collapsed": false,
    "pycharm": {
     "name": "#%%\n"
    }
   }
  },
  {
   "cell_type": "code",
   "execution_count": 14,
   "outputs": [
    {
     "name": "stdout",
     "output_type": "stream",
     "text": [
      "\u001B[38;5;2m[+] Auto-filled config with all values\u001B[0m\n",
      "\u001B[38;5;2m[+] Saved config\u001B[0m\n",
      "config.cfg\n",
      "You can now add your data and train your pipeline:\n",
      "python -m spacy train config.cfg --paths.train ./train.spacy --paths.dev ./dev.spacy\n"
     ]
    }
   ],
   "source": [
    "!python -m spacy init fill-config base_config.cfg config.cfg"
   ],
   "metadata": {
    "collapsed": false,
    "pycharm": {
     "name": "#%%\n"
    }
   }
  },
  {
   "cell_type": "code",
   "execution_count": 15,
   "outputs": [
    {
     "name": "stdout",
     "output_type": "stream",
     "text": [
      "\u001B[38;5;4m[i] Saving to output directory: .\u001B[0m\n",
      "\u001B[38;5;4m[i] Using GPU: 0\u001B[0m\n",
      "\u001B[1m\n",
      "=========================== Initializing pipeline ===========================\u001B[0m\n"
     ]
    },
    {
     "name": "stderr",
     "output_type": "stream",
     "text": [
      "[2023-04-11 10:38:36,098] [INFO] Set up nlp object from config\n",
      "[2023-04-11 10:38:36,108] [INFO] Pipeline: ['tok2vec', 'spancat']\n",
      "[2023-04-11 10:38:36,111] [INFO] Created vocabulary\n",
      "Traceback (most recent call last):\n",
      "  File \"D:\\Jupiter\\venv\\lib\\site-packages\\spacy\\language.py\", line 1286, in initialize\n",
      "    init_vocab(\n",
      "  File \"D:\\Jupiter\\venv\\lib\\site-packages\\spacy\\training\\initialize.py\", line 132, in init_vocab\n",
      "    load_vectors_into_model(nlp, vectors)\n",
      "  File \"D:\\Jupiter\\venv\\lib\\site-packages\\spacy\\training\\initialize.py\", line 153, in load_vectors_into_model\n",
      "    vectors_nlp = load_model(name, vocab=nlp.vocab, exclude=exclude)\n",
      "  File \"D:\\Jupiter\\venv\\lib\\site-packages\\spacy\\util.py\", line 449, in load_model\n",
      "    raise IOError(Errors.E050.format(name=name))\n",
      "OSError: [E050] Can't find model 'en_core_web_lg'. It doesn't seem to be a Python package or a valid path to a data directory.\n",
      "\n",
      "During handling of the above exception, another exception occurred:\n",
      "\n",
      "Traceback (most recent call last):\n",
      "  File \"C:\\Users\\ykolt\\AppData\\Local\\Programs\\Python\\Python310\\lib\\runpy.py\", line 196, in _run_module_as_main\n",
      "    return _run_code(code, main_globals, None,\n",
      "  File \"C:\\Users\\ykolt\\AppData\\Local\\Programs\\Python\\Python310\\lib\\runpy.py\", line 86, in _run_code\n",
      "    exec(code, run_globals)\n",
      "  File \"D:\\Jupiter\\venv\\lib\\site-packages\\spacy\\__main__.py\", line 4, in <module>\n",
      "    setup_cli()\n",
      "  File \"D:\\Jupiter\\venv\\lib\\site-packages\\spacy\\cli\\_util.py\", line 74, in setup_cli\n",
      "    command(prog_name=COMMAND)\n",
      "  File \"D:\\Jupiter\\venv\\lib\\site-packages\\click\\core.py\", line 1130, in __call__\n",
      "    return self.main(*args, **kwargs)\n",
      "  File \"D:\\Jupiter\\venv\\lib\\site-packages\\typer\\core.py\", line 778, in main\n",
      "    return _main(\n",
      "  File \"D:\\Jupiter\\venv\\lib\\site-packages\\typer\\core.py\", line 216, in _main\n",
      "    rv = self.invoke(ctx)\n",
      "  File \"D:\\Jupiter\\venv\\lib\\site-packages\\click\\core.py\", line 1657, in invoke\n",
      "    return _process_result(sub_ctx.command.invoke(sub_ctx))\n",
      "  File \"D:\\Jupiter\\venv\\lib\\site-packages\\click\\core.py\", line 1404, in invoke\n",
      "    return ctx.invoke(self.callback, **ctx.params)\n",
      "  File \"D:\\Jupiter\\venv\\lib\\site-packages\\click\\core.py\", line 760, in invoke\n",
      "    return __callback(*args, **kwargs)\n",
      "  File \"D:\\Jupiter\\venv\\lib\\site-packages\\typer\\main.py\", line 683, in wrapper\n",
      "    return callback(**use_params)  # type: ignore\n",
      "  File \"D:\\Jupiter\\venv\\lib\\site-packages\\spacy\\cli\\train.py\", line 45, in train_cli\n",
      "    train(config_path, output_path, use_gpu=use_gpu, overrides=overrides)\n",
      "  File \"D:\\Jupiter\\venv\\lib\\site-packages\\spacy\\cli\\train.py\", line 72, in train\n",
      "    nlp = init_nlp(config, use_gpu=use_gpu)\n",
      "  File \"D:\\Jupiter\\venv\\lib\\site-packages\\spacy\\training\\initialize.py\", line 85, in init_nlp\n",
      "    nlp.initialize(lambda: train_corpus(nlp), sgd=optimizer)\n",
      "  File \"D:\\Jupiter\\venv\\lib\\site-packages\\spacy\\language.py\", line 1290, in initialize\n",
      "    raise IOError(Errors.E884.format(vectors=I[\"vectors\"]))\n",
      "OSError: [E884] The pipeline could not be initialized because the vectors could not be found at 'en_core_web_lg'. If your pipeline was already initialized/trained before, call 'resume_training' instead of 'initialize', or initialize only the components that are new.\n"
     ]
    }
   ],
   "source": [
    "!python -m spacy train config.cfg --output ./ --paths.train ./training_data_spans.spacy --paths.dev ./training_data_spans.spacy --gpu-id 0"
   ],
   "metadata": {
    "collapsed": false,
    "pycharm": {
     "name": "#%%\n"
    }
   }
  },
  {
   "cell_type": "code",
   "execution_count": null,
   "outputs": [],
   "source": [],
   "metadata": {
    "collapsed": false,
    "pycharm": {
     "name": "#%%\n"
    }
   }
  },
  {
   "cell_type": "code",
   "execution_count": null,
   "outputs": [],
   "source": [],
   "metadata": {
    "collapsed": false,
    "pycharm": {
     "name": "#%%\n"
    }
   }
  },
  {
   "cell_type": "code",
   "execution_count": 4,
   "outputs": [
    {
     "name": "stdout",
     "output_type": "stream",
     "text": [
      "2\n",
      "373\n"
     ]
    },
    {
     "data": {
      "text/plain": "('35 УТВЕРЖДАЮ Ломакина Наталья Владимировна Директор МБУ \"МФЦ городского округа Балашиха\" «01» сентября 2022г. ОРМЕ» документации, а именно: 1 час с момента размещения оператором электронной площадки протокола сопоставления ценовых предложений. 26. Дата начала и окончания срока рассмотрения вторых частей заявок на участие в аукционе в электронной форме Дата начала срока рассмотрения вторых частей заявок на участие в аукционе в электронной форме: «12» сентября 2022 Дата окончания срока рассмотрения вторых частей заявок на участие в аукционе в электронной форме: «12» сентября 2022 27. Дата подведения итогов аукциона в электронной форме Дата подведения итогов аукциона в электронной форме: «12» сентября 2022 28. Обеспечение заявок на участие в аукционе в электронной форме Не требуется 28.1. Размер обеспечения заявок на участие в аукционе в электронной форме Не требуется 28.2. Срок и порядок предоставления обеспечения заявок на участие в аукционе в электронной форме Не требуется 29. Обеспечение исполнения договора Требуется 29.1. Размер обеспечения исполнения договора, срок и порядок предоставления Размер обеспечения исполнения договора составляет: 5,00% от начальной (максимальной) цены договора, что составляет: 16 281 (шестнадцать тысяч двести восемьдесят один) рубль 50 копеек, НДС не облагается. Срок предоставления обеспечения исполнения договора: обеспечение должно быть предоставлено участником закупки до заключения договора. Срок предоставления обеспечения исполнения договора: обеспечение должно быть предоставлено участником закупки до заключения договора. Порядок предоставления обеспечения исполнения договора: срок обеспечения исполнения договора должен составлять срок исполнения обязательств по договору исполнителем плюс 60 дней. Обеспечение исполнения договора может быть представлено в виде безотзывной банковской гарантии или путем внесения денежных средств на счет Заказчика. Способ обеспечения исполнения договора определяется участником закупки самостоятельно. Если при проведении аукциона в электронной форме участником закупки, с которым заключается договор, предложена цена договора, которая на двадцать пять и более процентов ниже начальной (максимальной) цены договор ОБОСНОВАНИЕ НАЧАЛЬНОЙ (МАКСИМАЛЬНОЙ) ЦЕНЫ ДОГОВОРА/МАКСИМАЛЬНОГО ЗНАЧЕНИЯ ЦЕНЫ ДОГОВОРА/ЦЕНЫ ЕДИНИЦЫ ТОВАРА/ РАБОТЫ/ УСЛУГИ Обоснование начальной (максимальной) цены договора/максимального значения цены договора/цены единицы товара/ работы/ услуги договора прилагается отдельно.',\n {'spans': {'sc': [(1110, 1208, 'обеспечение исполнения контракта')]}})"
     },
     "execution_count": 4,
     "metadata": {},
     "output_type": "execute_result"
    }
   ],
   "source": [
    "#\"обеспечение исполнения контракта\" EOC\n",
    "#\"обеспечение гарантийных обязательств\" PWO\n",
    "\n",
    "span_key = \"sc\"\n",
    "def preprocessing(data):\n",
    "    nlp = spacy.blank('ru')\n",
    "    data_train = []\n",
    "    data_missing = []\n",
    "    max_lenght = 0\n",
    "    for dict in data:\n",
    "        text = dict.get('text')\n",
    "        label = dict.get('label')\n",
    "        answer_start = dict.get('extracted_part').get('answer_start')[0]\n",
    "        answer_end = dict.get('extracted_part').get('answer_end')[0]\n",
    "        if answer_start == 0 and answer_end == 0:\n",
    "            data_missing.append((text, {'spans': []}))\n",
    "        else:\n",
    "            row = (text, {'spans': {span_key: [(answer_start, answer_end, label)]}})\n",
    "            #row = Example.from_dict(nlp.make_doc(text), {'spans': {span_key: [(answer_start, answer_end, label)]}})\n",
    "            data_train.append(row)\n",
    "\n",
    "    return data_train, data_missing\n",
    "\n",
    "data_train, data_missing = preprocessing(data)\n",
    "data_train, data_valid = train_test_split(data_train, random_state=12345, test_size=0.25)\n",
    "#data_valid+=data_missing\n",
    "data_train = data_train[0:2]\n",
    "'''\n",
    "data_train, data_valid = train_test_split(preprocessing(data), random_state=12345, test_size=0.25)\n",
    "print(len(data_train))\n",
    "print(len(data_valid))\n",
    "data_train[0]\n",
    "'''\n",
    "\n",
    "print(len(data_train))\n",
    "print(len(data_valid))\n",
    "data_train[0]"
   ],
   "metadata": {
    "collapsed": false,
    "pycharm": {
     "name": "#%%\n"
    }
   }
  },
  {
   "cell_type": "code",
   "execution_count": 8,
   "outputs": [
    {
     "name": "stdout",
     "output_type": "stream",
     "text": [
      "True\n",
      "Epoch:  0  losses:  {'spancat_singlelabel': 8904.6669921875}\n",
      "Epoch:  1  losses:  {'spancat_singlelabel': 7750.1533203125}\n",
      "Epoch:  2  losses:  {'spancat_singlelabel': 6651.8671875}\n",
      "Epoch:  3  losses:  {'spancat_singlelabel': 5450.0908203125}\n",
      "Epoch:  4  losses:  {'spancat_singlelabel': 4270.05615234375}\n",
      "Epoch:  5  losses:  {'spancat_singlelabel': 3681.069091796875}\n",
      "Epoch:  6  losses:  {'spancat_singlelabel': 2614.10009765625}\n",
      "Epoch:  7  losses:  {'spancat_singlelabel': 1630.5703125}\n",
      "Epoch:  8  losses:  {'spancat_singlelabel': 1182.291259765625}\n",
      "Epoch:  9  losses:  {'spancat_singlelabel': 757.8826293945312}\n",
      "Epoch:  10  losses:  {'spancat_singlelabel': 473.1317443847656}\n",
      "Epoch:  11  losses:  {'spancat_singlelabel': 289.82464599609375}\n",
      "Epoch:  12  losses:  {'spancat_singlelabel': 170.41127014160156}\n",
      "Epoch:  13  losses:  {'spancat_singlelabel': 102.01383209228516}\n",
      "Epoch:  14  losses:  {'spancat_singlelabel': 63.14659881591797}\n",
      "Epoch:  15  losses:  {'spancat_singlelabel': 36.21516036987305}\n",
      "Epoch:  16  losses:  {'spancat_singlelabel': 21.797849655151367}\n",
      "Epoch:  17  losses:  {'spancat_singlelabel': 13.38768482208252}\n",
      "Epoch:  18  losses:  {'spancat_singlelabel': 8.51667594909668}\n",
      "Epoch:  19  losses:  {'spancat_singlelabel': 5.927281379699707}\n",
      "{'sc': []}\n"
     ]
    }
   ],
   "source": [
    "spacy.require_gpu()\n",
    "print(spacy.prefer_gpu())\n",
    "\n",
    "#nlp = spacy.blank(\"ru\")\n",
    "nlp = spacy.load(\"ru_core_news_sm\")\n",
    "pipe_exceptions = [\"spancat_singlelabel\"]\n",
    "unaffected_pipes = [pipe for pipe in nlp.pipe_names if pipe not in pipe_exceptions]\n",
    "\n",
    "config = {\n",
    "    #this refers to the minimum probability to consider a prediction positive\n",
    "    #\"threshold\": 0.5,\n",
    "    #the span key refers to the key in doc.spans\n",
    "    \"spans_key\": span_key,\n",
    "    #this refers to the maximum number of labels to consider positive per span\n",
    "    #\"max_positive\": None,\n",
    "    #a model instance that is given a list of documents with start end indices representing the labelled spans\n",
    "    \"model\": DEFAULT_SPANCAT_SINGLELABEL_MODEL, # DEFAULT_SPANCAT_MODEL\n",
    "    #A function that suggests spans. This suggester is fixed n-gram length of up to 3 tokens\n",
    "    #\"suggester\": {\"@misc\": \"spacy.ngram_suggester.v1\", \"sizes\": [1, 2, 3]},\n",
    "    \"suggester\": {\"@misc\": \"spacy.ngram_range_suggester.v1\", \"min_size\": 3, \"max_size\": 40},\n",
    "}\n",
    "\n",
    "\n",
    "span = nlp.add_pipe(\"spancat_singlelabel\", config=config) # spancat_singlelabel\n",
    "\n",
    "span.add_label(\"обеспечение исполнения контракта\")\n",
    "span.add_label(\"обеспечение гарантийных обязательств\")\n",
    "\n",
    "#span.add_label(\"EOC\")\n",
    "#span.add_label(\"PWO\")\n",
    "\n",
    "#optimizer = nlp.begin_training()\n",
    "\n",
    "nlp.initialize()\n",
    "optimizer = nlp.create_optimizer()\n",
    "\n",
    "with nlp.disable_pipes(*unaffected_pipes):\n",
    "    for epoch in range(20):\n",
    "        random.shuffle(data_train)\n",
    "        loss = {}\n",
    "        for batch in spacy.util.minibatch(data_train, size=2):\n",
    "            example = None\n",
    "            for text, annotations in batch:\n",
    "                doc = nlp.make_doc(text)\n",
    "                example = Example.from_dict(doc, annotations, drop=0.2)\n",
    "\n",
    "            nlp.update([example], sgd=optimizer, losses=loss)\n",
    "        print('Epoch: ',epoch, ' losses: ', loss)\n",
    "\n",
    "#nlp.to_disk(\"model\")\n",
    "\n",
    "doc = nlp(data_train[0][0])\n",
    "print(doc.spans)"
   ],
   "metadata": {
    "collapsed": false,
    "pycharm": {
     "name": "#%%\n"
    }
   }
  },
  {
   "cell_type": "code",
   "execution_count": null,
   "outputs": [],
   "source": [
    "def accuracy(true, pred):\n",
    "    true_pred = 0\n",
    "    for i in range(len(true)):\n",
    "        if true[i] == pred[i]:\n",
    "            true_pred+=1\n",
    "    return true_pred/len(true)"
   ],
   "metadata": {
    "collapsed": false,
    "pycharm": {
     "name": "#%%\n"
    }
   }
  },
  {
   "cell_type": "code",
   "execution_count": null,
   "outputs": [],
   "source": [
    "def create_true_pred_arr(data, model):\n",
    "    data_true = []\n",
    "    data_pred = []\n",
    "    for i in range(len(data)):\n",
    "        if data[i][1].get('entities'):\n",
    "            left = data[i][1].get('entities')[0][0]\n",
    "            right = data[i][1].get('entities')[0][1]\n",
    "            text = data[i][0]\n",
    "            data_true.append(text[left:right])\n",
    "        else:\n",
    "            #print(data[i][1].get('entities'))\n",
    "            data_true.append('')\n",
    "\n",
    "        doc = model(data[i][0])\n",
    "        print(doc.ents)\n",
    "        if list(doc.ents):\n",
    "            data_pred.append(str(doc.ents[0]))\n",
    "        else:\n",
    "            data_pred.append('')\n",
    "    print(len(data_true))\n",
    "    print(len(data_pred))\n",
    "    return data_true, data_pred\n",
    "\n",
    "#data_true, data_pred = create_true_pred_arr(data_valid, nlp)\n",
    "#print(len(data_true))\n",
    "#print(len(data_pred))"
   ],
   "metadata": {
    "collapsed": false,
    "pycharm": {
     "name": "#%%\n"
    }
   }
  },
  {
   "cell_type": "code",
   "execution_count": null,
   "outputs": [],
   "source": [
    "data_true, data_pred = create_true_pred_arr(data_train, nlp)\n",
    "print('Метрика accuracy на тренировочной выборке:', accuracy(data_true, data_pred))\n",
    "\n",
    "data_true, data_pred = create_true_pred_arr(data_valid, nlp)\n",
    "print('Метрика accuracy на тестовой выборке:', accuracy(data_true, data_pred))"
   ],
   "metadata": {
    "collapsed": false,
    "pycharm": {
     "name": "#%%\n"
    }
   }
  },
  {
   "cell_type": "code",
   "execution_count": 8,
   "outputs": [
    {
     "data": {
      "text/plain": "[('35 УТВЕРЖДАЮ Ломакина Наталья Владимировна Директор МБУ \"МФЦ городского округа Балашиха\" «01» сентября 2022г. ОРМЕ» документации, а именно: 1 час с момента размещения оператором электронной площадки протокола сопоставления ценовых предложений. 26. Дата начала и окончания срока рассмотрения вторых частей заявок на участие в аукционе в электронной форме Дата начала срока рассмотрения вторых частей заявок на участие в аукционе в электронной форме: «12» сентября 2022 Дата окончания срока рассмотрения вторых частей заявок на участие в аукционе в электронной форме: «12» сентября 2022 27. Дата подведения итогов аукциона в электронной форме Дата подведения итогов аукциона в электронной форме: «12» сентября 2022 28. Обеспечение заявок на участие в аукционе в электронной форме Не требуется 28.1. Размер обеспечения заявок на участие в аукционе в электронной форме Не требуется 28.2. Срок и порядок предоставления обеспечения заявок на участие в аукционе в электронной форме Не требуется 29. Обеспечение исполнения договора Требуется 29.1. Размер обеспечения исполнения договора, срок и порядок предоставления Размер обеспечения исполнения договора составляет: 5,00% от начальной (максимальной) цены договора, что составляет: 16 281 (шестнадцать тысяч двести восемьдесят один) рубль 50 копеек, НДС не облагается. Срок предоставления обеспечения исполнения договора: обеспечение должно быть предоставлено участником закупки до заключения договора. Срок предоставления обеспечения исполнения договора: обеспечение должно быть предоставлено участником закупки до заключения договора. Порядок предоставления обеспечения исполнения договора: срок обеспечения исполнения договора должен составлять срок исполнения обязательств по договору исполнителем плюс 60 дней. Обеспечение исполнения договора может быть представлено в виде безотзывной банковской гарантии или путем внесения денежных средств на счет Заказчика. Способ обеспечения исполнения договора определяется участником закупки самостоятельно. Если при проведении аукциона в электронной форме участником закупки, с которым заключается договор, предложена цена договора, которая на двадцать пять и более процентов ниже начальной (максимальной) цены договор ОБОСНОВАНИЕ НАЧАЛЬНОЙ (МАКСИМАЛЬНОЙ) ЦЕНЫ ДОГОВОРА/МАКСИМАЛЬНОГО ЗНАЧЕНИЯ ЦЕНЫ ДОГОВОРА/ЦЕНЫ ЕДИНИЦЫ ТОВАРА/ РАБОТЫ/ УСЛУГИ Обоснование начальной (максимальной) цены договора/максимального значения цены договора/цены единицы товара/ работы/ услуги договора прилагается отдельно.',\n  {'spans': {'sc': [(1110, 1208, 'обеспечение исполнения контракта')]}}),\n ('КОНТРАКТ<1> № ___ <2> на поставку продуктов питания (бакалея 4) (Идентификационный код закупки -222711101260771110100101240001061244 ) ________<4> «__» _______ 20__<5> ГУЗ «Алексинская районная больница № 1 имени профессора В.Ф. Снегирева» <6>, отребовать уплату штрафа. Размер штрафа определяется в соответствии с Правилами и составляет 1000 (одна тысяча) рублей 00 копеек. 7.14. Применение неустойки (штрафа, пени) не освобождает Стороны от исполнения обязательств по настоящему Контракту. 7.15. Общая сумма начисленных штрафов за неисполнение или ненадлежащее исполнение Поставщиком обязательств, предусмотренных настоящим Контрактом, не может превышать цену Контракта. 7.16. Общая сумма начисленных штрафов за ненадлежащее исполнение Заказчиком обязательств, предусмотренных настоящим Контрактом, не может превышать цену Контракта. 7.17. В случае расторжения настоящего Контракта в связи с односторонним отказом Стороны от исполнения настоящего Контракта другая Сторона вправе потребовать возмещения только фактически понесенного ущерба, непосредственно обусловленного обстоятельствами, являющимися основанием для принятия решения об одностороннем отказе от исполнения настоящего Контракта. VIII. ОБЕСПЕЧЕНИЕ ИСПОЛНЕНИЯ КОНТРАКТА <109> 8.1. Обеспечение исполнения настоящего Контракта установлено в размере 5%. <110> 8.2. Обеспечение исполнения настоящего Контракта обеспечивает все обязательства Поставщика, предусмотренные настоящим Контрактом, включая: - исполнение основного обязательства по поставке Товара; - предоставление Поставщиком Заказчику предусмотренных настоящим Контрактом и приложениями к нему результатов, включая отчетные документы; - соблюдение срока поставки; - возмещение убытков, причиненных Заказчику Поставщиком в результате ненадлежащего исполнения, неисполнения предусмотренного настоящим Контрактом и приложениями к нему обязательства последнего, а также обязанность выплаты неустойки (пени, штрафа), предусмотренной настоящим Контрактом. 8.3. Исполнение настоящего Контракта может обеспечиваться предоставлением независимой гарантии, выданной лицом, соответствующим требованиям статьи 45 Закона № 44-ФЗ, или внесением денежных средств на указанный в настоящем Контракте счет Заказчика. Способ и срок действия обеспечения исполнения настоящего Контракта определяется Поставщиком сам <144> Указывается в случае наличия претензий.',\n  {'spans': {'sc': [(1245, 1314, 'обеспечение исполнения контракта')]}})]"
     },
     "execution_count": 8,
     "metadata": {},
     "output_type": "execute_result"
    }
   ],
   "source": [
    "data_train[0][0]"
   ],
   "metadata": {
    "collapsed": false,
    "pycharm": {
     "name": "#%%\n"
    }
   }
  },
  {
   "cell_type": "code",
   "execution_count": 59,
   "outputs": [
    {
     "name": "stdout",
     "output_type": "stream",
     "text": [
      "{'sc': []}\n"
     ]
    }
   ],
   "source": [
    "#print(data_train[0][0])\n",
    "doc = nlp(data_train[0][0])\n",
    "print(doc.spans)\n",
    "\n"
   ],
   "metadata": {
    "collapsed": false,
    "pycharm": {
     "name": "#%%\n"
    }
   }
  },
  {
   "cell_type": "code",
   "execution_count": 56,
   "outputs": [
    {
     "ename": "KeyError",
     "evalue": "'scores'",
     "output_type": "error",
     "traceback": [
      "\u001B[1;31m---------------------------------------------------------------------------\u001B[0m",
      "\u001B[1;31mKeyError\u001B[0m                                  Traceback (most recent call last)",
      "Cell \u001B[1;32mIn[56], line 4\u001B[0m\n\u001B[0;32m      2\u001B[0m \u001B[38;5;66;03m#print predicted spans and entity level scores\u001B[39;00m\n\u001B[0;32m      3\u001B[0m spans \u001B[38;5;241m=\u001B[39m doc\u001B[38;5;241m.\u001B[39mspans[\u001B[38;5;124m'\u001B[39m\u001B[38;5;124msc\u001B[39m\u001B[38;5;124m'\u001B[39m]\n\u001B[1;32m----> 4\u001B[0m \u001B[38;5;28;01mfor\u001B[39;00m span, confidence \u001B[38;5;129;01min\u001B[39;00m \u001B[38;5;28mzip\u001B[39m(spans, \u001B[43mspans\u001B[49m\u001B[38;5;241;43m.\u001B[39;49m\u001B[43mattrs\u001B[49m\u001B[43m[\u001B[49m\u001B[38;5;124;43m\"\u001B[39;49m\u001B[38;5;124;43mscores\u001B[39;49m\u001B[38;5;124;43m\"\u001B[39;49m\u001B[43m]\u001B[49m):\n\u001B[0;32m      5\u001B[0m     \u001B[38;5;28mprint\u001B[39m(span\u001B[38;5;241m.\u001B[39mlabel_, confidence)\n",
      "\u001B[1;31mKeyError\u001B[0m: 'scores'"
     ]
    }
   ],
   "source": [
    "doc = nlp(data[0]['text'])\n",
    "#print predicted spans and entity level scores\n",
    "spans = doc.spans['sc']\n",
    "for span, confidence in zip(spans, spans.attrs[\"scores\"]):\n",
    "    print(span.label_, confidence)"
   ],
   "metadata": {
    "collapsed": false,
    "pycharm": {
     "name": "#%%\n"
    }
   }
  },
  {
   "cell_type": "code",
   "execution_count": 57,
   "outputs": [
    {
     "data": {
      "text/plain": "<IPython.core.display.HTML object>",
      "text/html": "<span class=\"tex2jax_ignore\"><div class=\"spans\" style=\"line-height: 2.5; direction: ltr\">Извещение о проведении открытого конкурса в электронной форме для закупки № 0328300032822000806 Общая информация Номер извещения 0328300032822000806 Наименование объекта закупки Поставка продуктов питания Способ определения поставщика ( подрядчика , исполнителя ) Открытый конкурс в бль Порядок внесения денежных средств в качестве обеспечения заявки на участие в закупке , а также условия гарантии Обеспечение заявки на участие в закупке может предоставляться участником закупки в виде денежных средств или независимой гарантии , предусмотренной ст. 45 Федерального закона № 44-ФЗ . Выбор способа обеспечения осуществляется участником закупки самостоятельно . Срок действия независимой гарантии должен составлять не менее месяца с даты окончания срока подачи заявок . Обеспечение заявки на участие в закупке предоставляется в соответствии с ч . 5 ст. 44 Федерального закона № 44-ФЗ . Условия независимой гарантии в соответствии со ст. 45 Федерального закона № 44-ФЗ . Реквизиты счета в соответствии с п.16 ч . 1 ст. 42 Закона № 44-ФЗ &quot; Номер расчётного счёта &quot; 00000000000000000000 &quot; Номер лицевого счёта &quot; См . прилагаемые документы &quot; БИК &quot; 000000000 &quot; Наименование кредитной организации &quot; &quot; Номер корреспондентского счета &quot; Обеспечение исполнения контракта Требуется обеспечение исполнения контракта Размер обеспечения исполнения контракта 6593.25 Российский рубль Порядок обеспечения исполнения контракта , требования к обеспечению Исполнение контракта , гарантийные обязательства могут обеспечиваться предоставлением независимой гарантии , соответствующей требованиям ст. 45 Федерального закона № 44-ФЗ , или внесением денежных средств на указанный заказчиком счет , на котором в соответствии с законодательством Российской Федерации учитываются операции со средствами , поступающими заказчику . Способ обеспечения исполнения контракта , гарантийных обязательств , срок действия независимой гарантии определяются в соответствии с требованиями Федерального закона № 44-ФЗ участником закупки , с которым заключается контракт , самостоятельно . При этом срок действия независимой гарантии должен превышать предусмотренный контрактом срок исполнения обязательств , которые должны быть обеспечены такой независимой гарантией , не менее чем на один месяц , в том числе в случае его изменения в соответствии со ст. 95 Федерального закона № 44-ФЗ . Порядок предоставления и требования о Информация и документы , подтверждающие соответствие участников закупки дополнительным требованиям : 1 ) исполненный договор ; 2 ) акт приемки оказанных услуг и ( или ) поставленных товаров , подтверждающий цену оказанных услуг и ( или ) поставленных товаров 4 </div></span>"
     },
     "metadata": {},
     "output_type": "display_data"
    }
   ],
   "source": [
    "spacy.displacy.render(doc, style=\"span\")"
   ],
   "metadata": {
    "collapsed": false,
    "pycharm": {
     "name": "#%%\n"
    }
   }
  },
  {
   "cell_type": "code",
   "execution_count": null,
   "outputs": [],
   "source": [],
   "metadata": {
    "collapsed": false,
    "pycharm": {
     "name": "#%%\n"
    }
   }
  },
  {
   "cell_type": "markdown",
   "source": [
    "Данные для обучения алгоритма spacy для задачи Span Categorization должны быть в формате JSON. Каждое предложение должно быть представлено в виде объекта, состоящего из двух полей: \"text\", содержащего само предложение, и \"spans\", содержащего список объектов, описывающих категории и местоположение соответствующих спанов в предложении. Каждый объект категории должен содержать три поля: \"start\", \"end\" и \"label\". Поле \"start\" содержит начальную позицию спана в предложении, \"end\" содержит конечную позицию спана в предложении, а \"label\" содержит название категории, к которой относится данный спан."
   ],
   "metadata": {
    "collapsed": false,
    "pycharm": {
     "name": "#%% md\n"
    }
   }
  }
 ],
 "metadata": {
  "kernelspec": {
   "display_name": "Python 3",
   "language": "python",
   "name": "python3"
  },
  "language_info": {
   "codemirror_mode": {
    "name": "ipython",
    "version": 2
   },
   "file_extension": ".py",
   "mimetype": "text/x-python",
   "name": "python",
   "nbconvert_exporter": "python",
   "pygments_lexer": "ipython2",
   "version": "2.7.6"
  }
 },
 "nbformat": 4,
 "nbformat_minor": 0
}